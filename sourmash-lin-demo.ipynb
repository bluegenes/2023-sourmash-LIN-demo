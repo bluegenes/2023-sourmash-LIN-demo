{
 "cells": [
  {
   "cell_type": "markdown",
   "id": "7013af95-ade3-464a-a8c0-98208e601240",
   "metadata": {},
   "source": [
    "## Look at the files we have"
   ]
  },
  {
   "cell_type": "code",
   "execution_count": 1,
   "id": "4bc5bf5c-bbc6-4e9b-ae01-2218f077d416",
   "metadata": {
    "tags": []
   },
   "outputs": [
    {
     "name": "stdout",
     "output_type": "stream",
     "text": [
      "barcode1_22142.dna.k31-sc1000.zip\n",
      "barcode1_22142.dna.k51-sc1000.zip\n",
      "barcode3_31543.dna.k31-sc1000.zip\n",
      "barcode3_31543.dna.k51-sc1000.zip\n",
      "ralstonia.LINgroups.csv\n"
     ]
    }
   ],
   "source": [
    "%%bash\n",
    "\n",
    "ls inputs"
   ]
  },
  {
   "cell_type": "code",
   "execution_count": 2,
   "id": "ef3298c9-bc52-4fb5-99e2-5a04ba343cbd",
   "metadata": {
    "tags": []
   },
   "outputs": [
    {
     "name": "stderr",
     "output_type": "stream",
     "text": [
      "\u001b[K\n",
      "== This is sourmash version 4.6.1. ==\n",
      "\u001b[K== Please cite Brown and Irber (2016), doi:10.21105/joss.00027. ==\n",
      "\n",
      "\u001b[K** loading from './inputs/barcode1_22142.dna.k51-sc1000.zip'\n"
     ]
    },
    {
     "name": "stdout",
     "output_type": "stream",
     "text": [
      "path filetype: ZipFileLinearIndex\n",
      "location: /Users/ntward/dib-lab/2023-sourmash-LIN-demo/inputs/barcode1_22142.dna.k51-sc1000.zip\n",
      "is database? yes\n",
      "has manifest? yes\n",
      "num signatures: 1\n"
     ]
    },
    {
     "name": "stderr",
     "output_type": "stream",
     "text": [
      "\u001b[K** examining manifest...\n"
     ]
    },
    {
     "name": "stdout",
     "output_type": "stream",
     "text": [
      "total hashes: 487655\n",
      "summary of sketches:\n",
      "   1 sketches with DNA, k=51, scaled=1000, abund      487655 total hashes\n"
     ]
    }
   ],
   "source": [
    "%%bash\n",
    "\n",
    "sourmash sig fileinfo ./inputs/barcode1_22142.dna.k51-sc1000.zip"
   ]
  },
  {
   "cell_type": "code",
   "execution_count": 3,
   "id": "dd8ea60c-8e3b-438d-9edf-227b0bc5da91",
   "metadata": {
    "tags": []
   },
   "outputs": [
    {
     "name": "stdout",
     "output_type": "stream",
     "text": [
      "ralstonia-lin.taxonomy.GCA-GCF.csv\n",
      "ralstonia.dna.sc1000.zip\n"
     ]
    }
   ],
   "source": [
    "%%bash\n",
    "\n",
    "ls databases\n",
    "\n",
    "# set a database variable to make it easy to use this file below\n",
    "database=\"databases/ralstonia.dna.sc1000.zip\""
   ]
  },
  {
   "cell_type": "code",
   "execution_count": 4,
   "id": "4199bbb9-92fe-4aa6-9ad5-d30a88ee4768",
   "metadata": {
    "tags": []
   },
   "outputs": [
    {
     "name": "stderr",
     "output_type": "stream",
     "text": [
      "\u001b[K\n",
      "== This is sourmash version 4.6.1. ==\n",
      "\u001b[K== Please cite Brown and Irber (2016), doi:10.21105/joss.00027. ==\n",
      "\n",
      "\u001b[K** loading from 'databases/ralstonia.dna.sc1000.zip'\n"
     ]
    },
    {
     "name": "stdout",
     "output_type": "stream",
     "text": [
      "path filetype: ZipFileLinearIndex\n",
      "location: /Users/ntward/dib-lab/2023-sourmash-LIN-demo/databases/ralstonia.dna.sc1000.zip\n",
      "is database? yes\n",
      "has manifest? yes\n",
      "num signatures: 81\n"
     ]
    },
    {
     "name": "stderr",
     "output_type": "stream",
     "text": [
      "\u001b[K** examining manifest...\n"
     ]
    },
    {
     "name": "stdout",
     "output_type": "stream",
     "text": [
      "total hashes: 445041\n",
      "summary of sketches:\n",
      "   27 sketches with DNA, k=21, scaled=1000, abund     148324 total hashes\n",
      "   27 sketches with DNA, k=31, scaled=1000, abund     148111 total hashes\n",
      "   27 sketches with DNA, k=51, scaled=1000, abund     148606 total hashes\n"
     ]
    }
   ],
   "source": [
    "%%bash\n",
    "\n",
    "sourmash sig fileinfo databases/ralstonia.dna.sc1000.zip"
   ]
  },
  {
   "cell_type": "markdown",
   "id": "360884a7-0a8d-47a3-9b82-82c75f5f4397",
   "metadata": {},
   "source": [
    "## Run sourmash gather"
   ]
  },
  {
   "cell_type": "code",
   "execution_count": 5,
   "id": "2c45f07a-eed9-423e-9cc3-d14005e999c0",
   "metadata": {
    "tags": []
   },
   "outputs": [
    {
     "name": "stderr",
     "output_type": "stream",
     "text": [
      "\u001b[K\n",
      "== This is sourmash version 4.6.1. ==\n",
      "\u001b[K== Please cite Brown and Irber (2016), doi:10.21105/joss.00027. ==\n",
      "\n",
      "\u001b[Kselect query k=51 automatically.\n",
      "\u001b[Kloaded query: barcode1_22142... (k=51, DNA)\n",
      "\u001b[K--ading from 'databases/ralstonia.dna.sc1000.zip'...\n",
      "\u001b[Kloaded 81 total signatures from 1 locations.\n",
      "\u001b[Kafter selecting signatures compatible with search, 27 remain.\n",
      "\u001b[KStarting prefetch sweep across databases.\n",
      "\u001b[KFound 7 signatures via prefetch; now doing gather.\n"
     ]
    },
    {
     "name": "stdout",
     "output_type": "stream",
     "text": [
      "\n",
      "\n",
      "overlap     p_query p_match avg_abund\n",
      "---------   ------- ------- ---------\n",
      "105.0 kbp      0.0%    2.0%       1.0    GCA_002251655.1 Ralstonia solanacear...\n"
     ]
    },
    {
     "name": "stderr",
     "output_type": "stream",
     "text": [
      "\u001b[Kfound less than 50.0 kbp in common. => exiting\n"
     ]
    },
    {
     "name": "stdout",
     "output_type": "stream",
     "text": [
      "\n",
      "found 1 matches total;\n",
      "the recovered matches hit 0.0% of the abundance-weighted query.\n",
      "the recovered matches hit 0.0% of the query k-mers (unweighted).\n",
      "\n"
     ]
    }
   ],
   "source": [
    "%%bash\n",
    "\n",
    "query=\"inputs/barcode1_22142.dna.k51-sc1000.zip\"\n",
    "database=\"databases/ralstonia.dna.sc1000.zip\"\n",
    "\n",
    "gather_csv_output=\"barcode1_22141.dna.k51-sc1000.gather.csv\"\n",
    "\n",
    "sourmash gather $query $database -o $gather_csv_output"
   ]
  },
  {
   "cell_type": "markdown",
   "id": "e05c6b7c-af06-4ddb-a6c0-7cbe39d0e4c9",
   "metadata": {},
   "source": [
    "## Add taxonomic information and summarize up LINgroups"
   ]
  },
  {
   "cell_type": "code",
   "execution_count": 6,
   "id": "32be5df6-6f7d-47f3-9312-cf27b2144a0c",
   "metadata": {
    "tags": []
   },
   "outputs": [
    {
     "name": "stdout",
     "output_type": "stream",
     "text": [
      "LIN,Species,Strain,FileName,Accession,ident\n",
      "14;1;0;0;0;0;0;0;0;0;6;0;1;0;1;0;0;0;0;0,Ralstonia solanacearum,OE1_1,GCF_001879565.1_ASM187956v1_genomic.fna,GCF_001879565.1,GCF_001879565.1\n",
      "14;1;0;0;0;0;0;0;0;0;6;0;1;0;0;0;0;0;0;0,Ralstonia solanacearum,PSS1308,GCF_001870805.1_ASM187080v1_genomic.fna,GCF_001870805.1,GCF_001870805.1\n",
      "14;1;0;0;0;0;0;0;0;0;2;1;0;0;0;0;0;0;0;0,Ralstonia solanacearum,FJAT_1458,GCF_001887535.1_ASM188753v1_genomic.fna,GCF_001887535.1,GCF_001887535.1\n",
      "14;1;0;0;0;0;0;0;0;0;2;0;0;4;4;0;0;0;0;0,Ralstonia solanacearum,Pe_13,GCF_012062595.1_ASM1206259v1_genomic.fna,GCF_012062595.1,GCF_012062595.1\n"
     ]
    }
   ],
   "source": [
    "%%bash\n",
    "\n",
    "# first, let's look at the taxonomy file\n",
    "taxonomy_csv=\"databases/ralstonia-lin.taxonomy.GCA-GCF.csv\"\n",
    "\n",
    "head -n 5 $taxonomy_csv"
   ]
  },
  {
   "cell_type": "code",
   "execution_count": 7,
   "id": "4c6e1c65-ca4f-4693-b665-c37e9f9a49cc",
   "metadata": {
    "tags": []
   },
   "outputs": [
    {
     "name": "stdout",
     "output_type": "stream",
     "text": [
      "LINgroup_name,LINgroup_prefix\n",
      "Phyl II,14;1;0;0;0;3;0\n",
      "Phyl IIA,14;1;0;0;0;3;0;1;0;0\n",
      "Phyl IIB,14;1;0;0;0;3;0;0\n",
      "Phyl IIB seq1 and seq2,14;1;0;0;0;3;0;0;0;0;1;0;0;0;0\n"
     ]
    }
   ],
   "source": [
    "%%bash\n",
    "\n",
    "# now, let's look at the LINgroups file\n",
    "lingroups_csv=\"inputs/ralstonia.LINgroups.csv\"\n",
    "\n",
    "head -n5 $lingroups_csv"
   ]
  },
  {
   "cell_type": "markdown",
   "id": "a84a409b-a1ae-444f-9eb6-54129e8c4087",
   "metadata": {},
   "source": [
    "### run sourmash tax metagenome to integrate taxonomic information into `gather` results"
   ]
  },
  {
   "cell_type": "code",
   "execution_count": 11,
   "id": "977ad8c8-6d2c-4d20-954a-f77527fe31f5",
   "metadata": {
    "tags": []
   },
   "outputs": [
    {
     "name": "stderr",
     "output_type": "stream",
     "text": [
      "\u001b[K\n",
      "== This is sourmash version 4.6.1. ==\n",
      "\u001b[K== Please cite Brown and Irber (2016), doi:10.21105/joss.00027. ==\n",
      "\n",
      "\u001b[Kloaded 1 gather results from 'barcode1_22141.dna.k51-sc1000.gather.csv'.\n",
      "\u001b[Kloaded results for 1 queries from 1 gather CSVs\n",
      "\u001b[KStarting summarization up rank(s): 19, 18, 17, 16, 15, 14, 13, 12, 11, 10, 9, 8, 7, 6, 5, 4, 3, 2, 1, 0 \n",
      "\u001b[KRead 11 LINgroup rows and found 11 distinct LINgroup prefixes.\n"
     ]
    },
    {
     "name": "stdout",
     "output_type": "stream",
     "text": [
      "['LINgroup_report']\n",
      "LINgroup_name\tLINgroup_prefix\tpercent_containment\tnum_bp_contained\tnum_bp_assigned\n",
      "Phyl II\t14;1;0;0;0;3;0\t0.02\t108000\t0\n",
      "Phyl IIB\t14;1;0;0;0;3;0;0\t0.02\t108000\t0\n",
      "Phyl IIB seq1 and seq2\t14;1;0;0;0;3;0;0;0;0;1;0;0;0;0\t0.02\t108000\t0\n",
      "IIB seq1\t14;1;0;0;0;3;0;0;0;0;1;0;0;0;0;0;0\t0.02\t108000\t0\n"
     ]
    }
   ],
   "source": [
    "%%bash\n",
    "\n",
    "gather_csv_output=\"barcode1_22141.dna.k51-sc1000.gather.csv\"\n",
    "taxonomy_csv=\"databases/ralstonia-lin.taxonomy.GCA-GCF.csv\"\n",
    "lingroups_csv=\"inputs/ralstonia.LINgroups.csv\"\n",
    "\n",
    "sourmash tax metagenome -g $gather_csv_output -t $taxonomy_csv \\\n",
    "                        --LIN-taxonomy --LINgroups $lingroups_csv \\\n",
    "                        -F LINgroup_report"
   ]
  },
  {
   "cell_type": "markdown",
   "id": "cb13c6ad-85c7-47ca-8fa0-3e85dae2d8a2",
   "metadata": {},
   "source": [
    "#### Now output the LINgroup report to a file"
   ]
  },
  {
   "cell_type": "code",
   "execution_count": 12,
   "id": "6aac1202-7ad5-485f-93ba-dfc761b1a7dd",
   "metadata": {
    "tags": []
   },
   "outputs": [
    {
     "name": "stderr",
     "output_type": "stream",
     "text": [
      "\u001b[K\n",
      "== This is sourmash version 4.6.1. ==\n",
      "\u001b[K== Please cite Brown and Irber (2016), doi:10.21105/joss.00027. ==\n",
      "\n",
      "\u001b[Kloaded 1 gather results from 'barcode1_22141.dna.k51-sc1000.gather.csv'.\n",
      "\u001b[Kloaded results for 1 queries from 1 gather CSVs\n",
      "\u001b[KStarting summarization up rank(s): 19, 18, 17, 16, 15, 14, 13, 12, 11, 10, 9, 8, 7, 6, 5, 4, 3, 2, 1, 0 \n",
      "\u001b[KRead 11 LINgroup rows and found 11 distinct LINgroup prefixes.\n",
      "\u001b[Ksaving 'lingroup_report' output to 'barcode1.lingroup_report.txt'.\n"
     ]
    },
    {
     "name": "stdout",
     "output_type": "stream",
     "text": [
      "['LINgroup_report']\n"
     ]
    }
   ],
   "source": [
    "%%bash\n",
    "\n",
    "gather_csv_output=\"barcode1_22141.dna.k51-sc1000.gather.csv\"\n",
    "taxonomy_csv=\"databases/ralstonia-lin.taxonomy.GCA-GCF.csv\"\n",
    "lingroups_csv=\"inputs/ralstonia.LINgroups.csv\"\n",
    "\n",
    "sourmash tax metagenome -g $gather_csv_output -t $taxonomy_csv \\\n",
    "                        --LIN-taxonomy --LINgroups $lingroups_csv \\\n",
    "                        -F LINgroup_report -o \"barcode1\""
   ]
  },
  {
   "cell_type": "markdown",
   "id": "d0ab7abc-231c-413d-92cf-526652f20e32",
   "metadata": {},
   "source": [
    "#### Also write some additional files (csv_summary, human summary)"
   ]
  },
  {
   "cell_type": "code",
   "execution_count": 14,
   "id": "3d58eb9f-8173-4523-9a81-99deea849c01",
   "metadata": {
    "tags": []
   },
   "outputs": [
    {
     "name": "stderr",
     "output_type": "stream",
     "text": [
      "\u001b[K\n",
      "== This is sourmash version 4.6.1. ==\n",
      "\u001b[K== Please cite Brown and Irber (2016), doi:10.21105/joss.00027. ==\n",
      "\n",
      "\u001b[Kloaded 1 gather results from 'barcode1_22141.dna.k51-sc1000.gather.csv'.\n",
      "\u001b[Kloaded results for 1 queries from 1 gather CSVs\n",
      "\u001b[KStarting summarization up rank(s): 19, 18, 17, 16, 15, 14, 13, 12, 11, 10, 9, 8, 7, 6, 5, 4, 3, 2, 1, 0 \n",
      "\u001b[Ksaving 'human' output to 'barcode1.human.txt'.\n",
      "\u001b[Ksaving 'csv_summary' output to 'barcode1.summarized.csv'.\n",
      "\u001b[KRead 11 LINgroup rows and found 11 distinct LINgroup prefixes.\n",
      "\u001b[Ksaving 'lingroup_report' output to 'barcode1.lingroup_report.txt'.\n"
     ]
    },
    {
     "name": "stdout",
     "output_type": "stream",
     "text": [
      "['LINgroup_report', 'csv_summary', 'human']\n"
     ]
    }
   ],
   "source": [
    "%%bash\n",
    "\n",
    "gather_csv_output=\"barcode1_22141.dna.k51-sc1000.gather.csv\"\n",
    "taxonomy_csv=\"databases/ralstonia-lin.taxonomy.GCA-GCF.csv\"\n",
    "lingroups_csv=\"inputs/ralstonia.LINgroups.csv\"\n",
    "\n",
    "sourmash tax metagenome -g $gather_csv_output -t $taxonomy_csv \\\n",
    "                        --LIN-taxonomy --LINgroups $lingroups_csv \\\n",
    "                        -F LINgroup_report csv_summary human -o \"barcode1\""
   ]
  },
  {
   "cell_type": "markdown",
   "id": "8ba4407f-da4e-4e1b-acef-fa5c8a1d5017",
   "metadata": {
    "tags": []
   },
   "source": [
    "### Now run with barcode 3 sample"
   ]
  },
  {
   "cell_type": "markdown",
   "id": "2b342146-1e7d-4bc2-8b22-0b0726f4cded",
   "metadata": {},
   "source": [
    "#### sourmash gather"
   ]
  },
  {
   "cell_type": "code",
   "execution_count": 17,
   "id": "cb82a6c5-7da7-4aae-aaca-e86f2ef809e9",
   "metadata": {
    "tags": []
   },
   "outputs": [
    {
     "name": "stderr",
     "output_type": "stream",
     "text": [
      "\u001b[K\n",
      "== This is sourmash version 4.6.1. ==\n",
      "\u001b[K== Please cite Brown and Irber (2016), doi:10.21105/joss.00027. ==\n",
      "\n",
      "\u001b[Kselect query k=51 automatically.\n",
      "\u001b[Kloaded query: barcode3_31543... (k=51, DNA)\n",
      "\u001b[K--ading from 'databases/ralstonia.dna.sc1000.zip'...\n",
      "\u001b[Kloaded 81 total signatures from 1 locations.\n",
      "\u001b[Kafter selecting signatures compatible with search, 27 remain.\n",
      "\u001b[KStarting prefetch sweep across databases.\n",
      "\u001b[KFound 0 signatures via prefetch; now doing gather.\n",
      "\u001b[Kfound less than 50.0 kbp in common. => exiting\n"
     ]
    },
    {
     "name": "stdout",
     "output_type": "stream",
     "text": [
      "\n",
      "\n",
      "found 0 matches total;\n",
      "the recovered matches hit 0.0% of the query k-mers (unweighted).\n",
      "\n"
     ]
    }
   ],
   "source": [
    "%%bash\n",
    "\n",
    "query=\"inputs/barcode3_31543.dna.k51-sc1000.zip\"\n",
    "database=\"databases/ralstonia.dna.sc1000.zip\"\n",
    "\n",
    "gather_csv_output=\"barcode3_31543.dna.k51-sc1000.gather.csv\"\n",
    "\n",
    "sourmash gather $query $database #-o $gather_csv_output"
   ]
  },
  {
   "cell_type": "markdown",
   "id": "57a72f41-27cd-47fa-93b5-1524cbdb69b9",
   "metadata": {
    "tags": []
   },
   "source": [
    "#### we found no matches! But, we can lower the detection threshold:"
   ]
  },
  {
   "cell_type": "code",
   "execution_count": 20,
   "id": "8b5f2e21-4326-4a5c-ad4a-6f5476ddeed6",
   "metadata": {
    "tags": []
   },
   "outputs": [
    {
     "name": "stderr",
     "output_type": "stream",
     "text": [
      "\u001b[K\n",
      "== This is sourmash version 4.6.1. ==\n",
      "\u001b[K== Please cite Brown and Irber (2016), doi:10.21105/joss.00027. ==\n",
      "\n",
      "\u001b[Kselect query k=51 automatically.\n",
      "\u001b[Kloaded query: barcode3_31543... (k=51, DNA)\n",
      "\u001b[K--ading from 'databases/ralstonia.dna.sc1000.zip'...\n",
      "\u001b[Kloaded 81 total signatures from 1 locations.\n",
      "\u001b[Kafter selecting signatures compatible with search, 27 remain.\n",
      "\u001b[KStarting prefetch sweep across databases.\n",
      "\u001b[KFound 6 signatures via prefetch; now doing gather.\n"
     ]
    },
    {
     "name": "stdout",
     "output_type": "stream",
     "text": [
      "\n",
      "\n",
      "overlap     p_query p_match avg_abund\n",
      "---------   ------- ------- ---------\n",
      "12.0 kbp       0.0%    0.2%       1.0    GCA_000750575.1 Ralstonia solanacear...\n",
      "\n",
      "found 1 matches total;\n",
      "the recovered matches hit 0.0% of the abundance-weighted query.\n",
      "the recovered matches hit 0.0% of the query k-mers (unweighted).\n",
      "\n"
     ]
    },
    {
     "name": "stderr",
     "output_type": "stream",
     "text": [
      "\u001b[Kfound less than 10.0 kbp in common. => exiting\n"
     ]
    }
   ],
   "source": [
    "%%bash\n",
    "\n",
    "query=\"inputs/barcode3_31543.dna.k51-sc1000.zip\"\n",
    "database=\"databases/ralstonia.dna.sc1000.zip\"\n",
    "\n",
    "gather_csv_output=\"barcode3_31543.dna.k51-sc1000.gather.csv\"\n",
    "\n",
    "# use a 10kb detection threshold\n",
    "sourmash gather $query $database --threshold-bp 10000 #-o $gather_csv_output"
   ]
  },
  {
   "cell_type": "markdown",
   "id": "8ecb1ba9-ee5e-4a48-991d-a8ad8444205c",
   "metadata": {},
   "source": [
    "#### ok, now we have a match but it's not the right one. \n",
    "\n",
    "Let's run prefetch on this sample to see what the raw results look like before gather. Use `--threshold-bp 0` to get all possible matches"
   ]
  },
  {
   "cell_type": "code",
   "execution_count": 25,
   "id": "444c5c23-3915-4c69-a86d-38005aef4839",
   "metadata": {},
   "outputs": [
    {
     "name": "stderr",
     "output_type": "stream",
     "text": [
      "\u001b[K\n",
      "== This is sourmash version 4.6.1. ==\n",
      "\u001b[K== Please cite Brown and Irber (2016), doi:10.21105/joss.00027. ==\n",
      "\n",
      "\u001b[Kselect query k=51 automatically.\n",
      "\u001b[Kloaded query: barcode3_31543... (k=51, DNA)\n",
      "\u001b[Kquery sketch has scaled=1000; will be dynamically downsampled as needed.\n",
      "\u001b[K--tal of 10 matching signatures so far.tonia.dna.sc1000.zip'\n",
      "\u001b[Kloaded 81 total signatures from 1 locations.\n",
      "\u001b[Kafter selecting signatures compatible with search, 27 remain.\n",
      "\u001b[K--\n",
      "\u001b[Ktotal of 15 matching signatures.\n",
      "\u001b[Ksaved 15 matches to CSV file 'barcode3_31543.dna.k51-sc1000.prefetch.csv'\n",
      "\u001b[Kof 487043 distinct query hashes, 12 were found in matches above threshold.\n",
      "\u001b[Ka total of 487031 query hashes remain unmatched.\n",
      "\u001b[Kfinal scaled value (max across query and all matches) is 1000\n"
     ]
    }
   ],
   "source": [
    "%%bash\n",
    "\n",
    "query=\"inputs/barcode3_31543.dna.k51-sc1000.zip\"\n",
    "prefetch_csv_output=\"barcode3_31543.dna.k51-sc1000.prefetch.csv\"\n",
    "database=\"databases/ralstonia.dna.sc1000.zip\"\n",
    "\n",
    "sourmash prefetch $query $database --threshold-bp 0 -o $prefetch_csv_output "
   ]
  },
  {
   "cell_type": "markdown",
   "id": "2f9abfc5-aa6b-421a-9023-3147e6a48a5b",
   "metadata": {},
   "source": [
    "#### open the \"barcode3_31543.dna.k51-sc1000.prefetch.csv\" file to see what it looks like\n",
    "\n",
    "The first column contains the estimated number of base pairs matched between our query and each matching reference genomes. You'll notice there are four genomes that match 12kb of sequence, one of which is the \"correct\" genome (with the lineage you're expecting).\n",
    "\n",
    "What is happening here?\n",
    "\n",
    "When faced with equally good matches, `sourmash gather` makes a random choice about which genome to assign these k-mers to. This happens primarily with highly similar genomes and/or very small sequence matches."
   ]
  },
  {
   "cell_type": "code",
   "execution_count": null,
   "id": "6dbfa514-fc34-4f03-bf8e-9b6010e9989d",
   "metadata": {},
   "outputs": [],
   "source": []
  }
 ],
 "metadata": {
  "kernelspec": {
   "display_name": "Python 3 (ipykernel)",
   "language": "python",
   "name": "python3"
  },
  "language_info": {
   "codemirror_mode": {
    "name": "ipython",
    "version": 3
   },
   "file_extension": ".py",
   "mimetype": "text/x-python",
   "name": "python",
   "nbconvert_exporter": "python",
   "pygments_lexer": "ipython3",
   "version": "3.10.9"
  }
 },
 "nbformat": 4,
 "nbformat_minor": 5
}
